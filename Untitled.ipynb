{
 "cells": [
  {
   "cell_type": "markdown",
   "id": "bab2cda2",
   "metadata": {},
   "source": [
    "<html> <head> <title>AlphabetGang Banned Packages</title> </head> <body> <h1>Alphabet Gang Banned Packages</h1> <ul> <li>RogueWars</li> <li>Server Tools</li> <li>The Hackers Blade </li> </ul> </body> </html>\n"
   ]
  },
  {
   "cell_type": "code",
   "execution_count": null,
   "id": "461b3157",
   "metadata": {},
   "outputs": [],
   "source": []
  }
 ],
 "metadata": {
  "kernelspec": {
   "display_name": "Python 3",
   "language": "python",
   "name": "python3"
  },
  "language_info": {
   "codemirror_mode": {
    "name": "ipython",
    "version": 3
   },
   "file_extension": ".py",
   "mimetype": "text/x-python",
   "name": "python",
   "nbconvert_exporter": "python",
   "pygments_lexer": "ipython3",
   "version": "3.8.5"
  }
 },
 "nbformat": 4,
 "nbformat_minor": 5
}
