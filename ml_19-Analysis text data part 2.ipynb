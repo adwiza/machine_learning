{
 "cells": [
  {
   "cell_type": "code",
   "execution_count": 1,
   "id": "1114b153",
   "metadata": {},
   "outputs": [],
   "source": [
    "import pandas as pd\n",
    "import numpy as np\n",
    "import matplotlib.pyplot as plt\n",
    "import seaborn as sns\n",
    "import datetime\n",
    "import pickle\n",
    "from ast import literal_eval\n",
    "\n",
    "# Gensim\n",
    "import gensim\n",
    "import gensim.corpora as corpora\n",
    "from gensim.utils import simple_preprocess\n",
    "from gensim.models import CoherenceModel\n",
    "\n",
    "from dateutil.relativedelta import relativedelta\n",
    "from wordcloud import WordCloud\n",
    "\n",
    "plt.style.use('ggplot')\n",
    "%matplotlib inline"
   ]
  },
  {
   "cell_type": "code",
   "execution_count": 2,
   "id": "f277047a",
   "metadata": {},
   "outputs": [],
   "source": [
    "data = pd.read_csv(r'd:/reduced_comments_vk.csv')\n",
    "\n",
    "bag_of_words = data.text_bow.apply(literal_eval)"
   ]
  },
  {
   "cell_type": "code",
   "execution_count": 3,
   "id": "42956302",
   "metadata": {},
   "outputs": [
    {
     "data": {
      "text/plain": [
       "0         [id415608045, иван, который, весь, мир, лететь...\n",
       "1         [наступать, пусть, старый, год, уходить, остав...\n",
       "2         [автор, музыка, слово, дмитрий, митькина, кото...\n",
       "3         [ура, предновогодний, премьера, неподражаемый,...\n",
       "4         [легко, аминь, хороший, клип, последний, время...\n",
       "                                ...                        \n",
       "105372    [id63075959, grave, таки, один, вариант, предп...\n",
       "105373    [id242181, алексей, хотеться, вспомнить, момен...\n",
       "105374    [id83805669, дима, специально, парный, микрора...\n",
       "105375    [id33365140, илья, давать, взять, дорога, себя...\n",
       "105376    [найти, спасибо, кома, нужно, аврор, дом, зами...\n",
       "Name: text_bow, Length: 105377, dtype: object"
      ]
     },
     "execution_count": 3,
     "metadata": {},
     "output_type": "execute_result"
    }
   ],
   "source": [
    "bag_of_words"
   ]
  },
  {
   "cell_type": "code",
   "execution_count": 4,
   "id": "caae1b02",
   "metadata": {},
   "outputs": [],
   "source": [
    "prepare = True\n",
    "\n",
    "if prepare:\n",
    "    # Build the bigram and trigram models\n",
    "    bigram = gensim.models.Phrases(bag_of_words, min_count=5, threshold=100) # higher threshold fewer phrases.\n",
    "\n",
    "    # Faster way to get a sentence clubbed as a trigram/bigram\n",
    "    bigram_mod = gensim.models.phrases.Phraser(bigram)\n",
    "    bigram_mod.save('bigram_mod.pkl')\n",
    "    \n",
    "    data_words_bigrams = [bigram_mod[w] for w in bag_of_words]\n",
    "    with open('bigrams.pkl', 'wb') as f:\n",
    "        pickle.dump(data_words_bigrams, f)\n",
    "\n",
    "else:\n",
    "    bigram_mod = gensim.models.Phrases.load('bigram_mod.pkl')\n",
    "    \n",
    "    with open('bigrams.pkl', 'rb') as f:\n",
    "        data_words_bigrams = pickle.load(f)"
   ]
  },
  {
   "cell_type": "code",
   "execution_count": null,
   "id": "71d5b6da",
   "metadata": {},
   "outputs": [],
   "source": []
  }
 ],
 "metadata": {
  "kernelspec": {
   "display_name": "Python 3",
   "language": "python",
   "name": "python3"
  },
  "language_info": {
   "codemirror_mode": {
    "name": "ipython",
    "version": 3
   },
   "file_extension": ".py",
   "mimetype": "text/x-python",
   "name": "python",
   "nbconvert_exporter": "python",
   "pygments_lexer": "ipython3",
   "version": "3.8.5"
  }
 },
 "nbformat": 4,
 "nbformat_minor": 5
}
