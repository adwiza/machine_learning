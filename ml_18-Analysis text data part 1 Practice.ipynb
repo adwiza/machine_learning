{
 "cells": [
  {
   "cell_type": "markdown",
   "id": "bc784456",
   "metadata": {},
   "source": [
    "# Memology - DataScience & Memes\n",
    "![](http://orig07.deviantart.net/3e62/f/2015/267/4/1/meme_team_logo_png_smol_by_kuiwi-d9ass0h.png)"
   ]
  },
  {
   "cell_type": "code",
   "execution_count": 1,
   "id": "498419fb",
   "metadata": {},
   "outputs": [],
   "source": [
    "import numpy as np\n",
    "import pandas as pd\n",
    "import json\n",
    "\n",
    "from sklearn.preprocessing import LabelEncoder\n",
    "le = LabelEncoder()\n",
    "\n",
    "import seaborn as sns\n",
    "from pylab import rcParams\n",
    "rcParams['figure.figsize']=8, 8\n",
    "import matplotlib.pyplot as plt\n",
    "plt.style.use('ggplot')\n",
    "%matplotlib inline"
   ]
  },
  {
   "cell_type": "code",
   "execution_count": 2,
   "id": "9682ee14",
   "metadata": {},
   "outputs": [],
   "source": [
    "from sklearn.model_selection import StratifiedKFold, train_test_split, RandomizedSearchCV\n",
    "from sklearn.metrics import classification_report, confusion_matrix, accuracy_score"
   ]
  },
  {
   "cell_type": "markdown",
   "id": "d50a3341",
   "metadata": {},
   "source": [
    "### Часть 1. Описание набора данных и признаков"
   ]
  },
  {
   "cell_type": "code",
   "execution_count": 3,
   "id": "b04ccb32",
   "metadata": {},
   "outputs": [],
   "source": [
    "memes = pd.read_csv('datasets/MEMES_new_short.csv', index_col=0)"
   ]
  },
  {
   "cell_type": "code",
   "execution_count": 4,
   "id": "12b692fe",
   "metadata": {},
   "outputs": [
    {
     "data": {
      "text/plain": [
       "(4206, 14)"
      ]
     },
     "execution_count": 4,
     "metadata": {},
     "output_type": "execute_result"
    }
   ],
   "source": [
    "memes.shape"
   ]
  },
  {
   "cell_type": "code",
   "execution_count": 5,
   "id": "1d88924d",
   "metadata": {},
   "outputs": [
    {
     "data": {
      "text/html": [
       "<div>\n",
       "<style scoped>\n",
       "    .dataframe tbody tr th:only-of-type {\n",
       "        vertical-align: middle;\n",
       "    }\n",
       "\n",
       "    .dataframe tbody tr th {\n",
       "        vertical-align: top;\n",
       "    }\n",
       "\n",
       "    .dataframe thead th {\n",
       "        text-align: right;\n",
       "    }\n",
       "</style>\n",
       "<table border=\"1\" class=\"dataframe\">\n",
       "  <thead>\n",
       "    <tr style=\"text-align: right;\">\n",
       "      <th></th>\n",
       "      <th>name</th>\n",
       "      <th>status</th>\n",
       "      <th>type</th>\n",
       "      <th>origin_year</th>\n",
       "      <th>origin_place</th>\n",
       "      <th>date_added</th>\n",
       "      <th>views</th>\n",
       "      <th>videos</th>\n",
       "      <th>photos</th>\n",
       "      <th>comments</th>\n",
       "      <th>tags</th>\n",
       "      <th>about</th>\n",
       "      <th>origin</th>\n",
       "      <th>other_text</th>\n",
       "    </tr>\n",
       "  </thead>\n",
       "  <tbody>\n",
       "    <tr>\n",
       "      <th>0</th>\n",
       "      <td>Muvvafukka</td>\n",
       "      <td>Submission</td>\n",
       "      <td>Viral Video</td>\n",
       "      <td>2019</td>\n",
       "      <td>Facebook</td>\n",
       "      <td>2019-10-24T04:05:03-04:00</td>\n",
       "      <td>13613</td>\n",
       "      <td>0</td>\n",
       "      <td>7</td>\n",
       "      <td>8</td>\n",
       "      <td>jay-lee hilzinger &amp; maddie flynn, eshayz, davi...</td>\n",
       "      <td>Muvvafukka refers to a viral video of two teen...</td>\n",
       "      <td>While it appears the original video is deleted...</td>\n",
       "      <td>Butler also made a screenshot of Hilzinger's f...</td>\n",
       "    </tr>\n",
       "    <tr>\n",
       "      <th>1</th>\n",
       "      <td>Martyrdom (Drop a Live Grenade When Killed)</td>\n",
       "      <td>Submission</td>\n",
       "      <td>Reaction</td>\n",
       "      <td>2007</td>\n",
       "      <td>Call of Duty 4: Modern Warfare</td>\n",
       "      <td>2019-10-23T12:13:13-04:00</td>\n",
       "      <td>13973</td>\n",
       "      <td>0</td>\n",
       "      <td>17</td>\n",
       "      <td>8</td>\n",
       "      <td>perk, martyrdom, live grenade, reaction image,...</td>\n",
       "      <td>Martyrdom (Drop a Live Grenade When Killed) re...</td>\n",
       "      <td>On April 12th, 2007, first person shooter Call...</td>\n",
       "      <td>Spread The exact first instance of use of the ...</td>\n",
       "    </tr>\n",
       "    <tr>\n",
       "      <th>2</th>\n",
       "      <td>Wet Kylo Ren</td>\n",
       "      <td>Submission</td>\n",
       "      <td>Image Macro</td>\n",
       "      <td>2019</td>\n",
       "      <td>Star Wars: The Rise of Skywalker (Movie Trailer)</td>\n",
       "      <td>2019-10-23T11:56:19-04:00</td>\n",
       "      <td>5339</td>\n",
       "      <td>0</td>\n",
       "      <td>12</td>\n",
       "      <td>7</td>\n",
       "      <td>kylo ren, star wars the rise of skywalker, ada...</td>\n",
       "      <td>Wet Kylo Ren is an image macro series based on...</td>\n",
       "      <td>On October 21st, 2019, the final trailer for t...</td>\n",
       "      <td>Shortly after the trailer's release, some on T...</td>\n",
       "    </tr>\n",
       "    <tr>\n",
       "      <th>3</th>\n",
       "      <td>You're Invited</td>\n",
       "      <td>Submission</td>\n",
       "      <td>Parody</td>\n",
       "      <td>2019</td>\n",
       "      <td>TikTok</td>\n",
       "      <td>2019-10-23T10:32:04-04:00</td>\n",
       "      <td>2249</td>\n",
       "      <td>0</td>\n",
       "      <td>0</td>\n",
       "      <td>0</td>\n",
       "      <td>byob, byow, party, flyer, charge, door</td>\n",
       "      <td>You're Invited is a series of TikTok videos pa...</td>\n",
       "      <td>On October 13th, 2019, TikTok user @coolguycol...</td>\n",
       "      <td>Spread On October 15th, 2019, @moneyxmo upload...</td>\n",
       "    </tr>\n",
       "    <tr>\n",
       "      <th>4</th>\n",
       "      <td>Companies Posting Their Own Names</td>\n",
       "      <td>Submission</td>\n",
       "      <td>Participatory Media</td>\n",
       "      <td>2019</td>\n",
       "      <td>Facebook</td>\n",
       "      <td>2019-10-25T12:42:22-04:00</td>\n",
       "      <td>5662</td>\n",
       "      <td>0</td>\n",
       "      <td>16</td>\n",
       "      <td>33</td>\n",
       "      <td>social media campaign, brands, companies, max ...</td>\n",
       "      <td>Companies Posting Their Own Names refers to a ...</td>\n",
       "      <td>On October 18th, 2019, Australian musician and...</td>\n",
       "      <td>Before October 2019, a number of companies and...</td>\n",
       "    </tr>\n",
       "  </tbody>\n",
       "</table>\n",
       "</div>"
      ],
      "text/plain": [
       "                                          name      status  \\\n",
       "0                                   Muvvafukka  Submission   \n",
       "1  Martyrdom (Drop a Live Grenade When Killed)  Submission   \n",
       "2                                 Wet Kylo Ren  Submission   \n",
       "3                               You're Invited  Submission   \n",
       "4            Companies Posting Their Own Names  Submission   \n",
       "\n",
       "                  type origin_year  \\\n",
       "0          Viral Video        2019   \n",
       "1             Reaction        2007   \n",
       "2          Image Macro        2019   \n",
       "3               Parody        2019   \n",
       "4  Participatory Media        2019   \n",
       "\n",
       "                                       origin_place  \\\n",
       "0                                          Facebook   \n",
       "1                    Call of Duty 4: Modern Warfare   \n",
       "2  Star Wars: The Rise of Skywalker (Movie Trailer)   \n",
       "3                                            TikTok   \n",
       "4                                          Facebook   \n",
       "\n",
       "                  date_added  views  videos  photos  comments  \\\n",
       "0  2019-10-24T04:05:03-04:00  13613       0       7         8   \n",
       "1  2019-10-23T12:13:13-04:00  13973       0      17         8   \n",
       "2  2019-10-23T11:56:19-04:00   5339       0      12         7   \n",
       "3  2019-10-23T10:32:04-04:00   2249       0       0         0   \n",
       "4  2019-10-25T12:42:22-04:00   5662       0      16        33   \n",
       "\n",
       "                                                tags  \\\n",
       "0  jay-lee hilzinger & maddie flynn, eshayz, davi...   \n",
       "1  perk, martyrdom, live grenade, reaction image,...   \n",
       "2  kylo ren, star wars the rise of skywalker, ada...   \n",
       "3             byob, byow, party, flyer, charge, door   \n",
       "4  social media campaign, brands, companies, max ...   \n",
       "\n",
       "                                               about  \\\n",
       "0  Muvvafukka refers to a viral video of two teen...   \n",
       "1  Martyrdom (Drop a Live Grenade When Killed) re...   \n",
       "2  Wet Kylo Ren is an image macro series based on...   \n",
       "3  You're Invited is a series of TikTok videos pa...   \n",
       "4  Companies Posting Their Own Names refers to a ...   \n",
       "\n",
       "                                              origin  \\\n",
       "0  While it appears the original video is deleted...   \n",
       "1  On April 12th, 2007, first person shooter Call...   \n",
       "2  On October 21st, 2019, the final trailer for t...   \n",
       "3  On October 13th, 2019, TikTok user @coolguycol...   \n",
       "4  On October 18th, 2019, Australian musician and...   \n",
       "\n",
       "                                          other_text  \n",
       "0  Butler also made a screenshot of Hilzinger's f...  \n",
       "1  Spread The exact first instance of use of the ...  \n",
       "2  Shortly after the trailer's release, some on T...  \n",
       "3  Spread On October 15th, 2019, @moneyxmo upload...  \n",
       "4  Before October 2019, a number of companies and...  "
      ]
     },
     "execution_count": 5,
     "metadata": {},
     "output_type": "execute_result"
    }
   ],
   "source": [
    "memes.head()"
   ]
  },
  {
   "cell_type": "code",
   "execution_count": 6,
   "id": "ea40f8a3",
   "metadata": {},
   "outputs": [],
   "source": [
    "memes.reset_index(drop=True, inplace=True)"
   ]
  },
  {
   "cell_type": "code",
   "execution_count": 7,
   "id": "23f18a9e",
   "metadata": {},
   "outputs": [
    {
     "name": "stdout",
     "output_type": "stream",
     "text": [
      "<class 'pandas.core.frame.DataFrame'>\n",
      "RangeIndex: 4206 entries, 0 to 4205\n",
      "Data columns (total 14 columns):\n",
      " #   Column        Non-Null Count  Dtype \n",
      "---  ------        --------------  ----- \n",
      " 0   name          4206 non-null   object\n",
      " 1   status        4206 non-null   object\n",
      " 2   type          1786 non-null   object\n",
      " 3   origin_year   4206 non-null   object\n",
      " 4   origin_place  4205 non-null   object\n",
      " 5   date_added    4206 non-null   object\n",
      " 6   views         4206 non-null   int64 \n",
      " 7   videos        4206 non-null   int64 \n",
      " 8   photos        4206 non-null   int64 \n",
      " 9   comments      4206 non-null   int64 \n",
      " 10  tags          4205 non-null   object\n",
      " 11  about         3798 non-null   object\n",
      " 12  origin        2524 non-null   object\n",
      " 13  other_text    3508 non-null   object\n",
      "dtypes: int64(4), object(10)\n",
      "memory usage: 460.2+ KB\n"
     ]
    }
   ],
   "source": [
    "memes.info()"
   ]
  },
  {
   "cell_type": "markdown",
   "id": "b22ca035",
   "metadata": {},
   "source": [
    "Итак, пройдемся по переменным:\n",
    "\n",
    "- name - название мема\n",
    "- added - дата добавления\n",
    "- views - число просмотров на сайте\n",
    "- comments - число комментариев\n",
    "- status - категориальная переменная, статус присваивается на сайте в зависимости от \"одобрения\" мема сообществом\n",
    "- year - год, к которому относится первоисточник появления картинки (например, год выхода определенной серии Симпсонов)\n",
    "- tags - тэги, также являются категориями\n",
    "- about - описание мема\n",
    "- origin - описание происхождения\n",
    "- spread - где приобрел особенную популярность"
   ]
  },
  {
   "cell_type": "code",
   "execution_count": 8,
   "id": "eae647a0",
   "metadata": {},
   "outputs": [
    {
     "data": {
      "text/html": [
       "<div>\n",
       "<style scoped>\n",
       "    .dataframe tbody tr th:only-of-type {\n",
       "        vertical-align: middle;\n",
       "    }\n",
       "\n",
       "    .dataframe tbody tr th {\n",
       "        vertical-align: top;\n",
       "    }\n",
       "\n",
       "    .dataframe thead th {\n",
       "        text-align: right;\n",
       "    }\n",
       "</style>\n",
       "<table border=\"1\" class=\"dataframe\">\n",
       "  <thead>\n",
       "    <tr style=\"text-align: right;\">\n",
       "      <th></th>\n",
       "      <th>name</th>\n",
       "      <th>status</th>\n",
       "      <th>type</th>\n",
       "      <th>origin_year</th>\n",
       "      <th>origin_place</th>\n",
       "      <th>date_added</th>\n",
       "      <th>views</th>\n",
       "      <th>videos</th>\n",
       "      <th>photos</th>\n",
       "      <th>comments</th>\n",
       "      <th>tags</th>\n",
       "      <th>about</th>\n",
       "      <th>origin</th>\n",
       "      <th>other_text</th>\n",
       "    </tr>\n",
       "  </thead>\n",
       "  <tbody>\n",
       "    <tr>\n",
       "      <th>0</th>\n",
       "      <td>Muvvafukka</td>\n",
       "      <td>Submission</td>\n",
       "      <td>Viral Video</td>\n",
       "      <td>2019</td>\n",
       "      <td>Facebook</td>\n",
       "      <td>2019-10-24T04:05:03-04:00</td>\n",
       "      <td>13613</td>\n",
       "      <td>0</td>\n",
       "      <td>7</td>\n",
       "      <td>8</td>\n",
       "      <td>jay-lee hilzinger &amp; maddie flynn, eshayz, davi...</td>\n",
       "      <td>Muvvafukka refers to a viral video of two teen...</td>\n",
       "      <td>While it appears the original video is deleted...</td>\n",
       "      <td>Butler also made a screenshot of Hilzinger's f...</td>\n",
       "    </tr>\n",
       "    <tr>\n",
       "      <th>1</th>\n",
       "      <td>Martyrdom (Drop a Live Grenade When Killed)</td>\n",
       "      <td>Submission</td>\n",
       "      <td>Reaction</td>\n",
       "      <td>2007</td>\n",
       "      <td>Call of Duty 4: Modern Warfare</td>\n",
       "      <td>2019-10-23T12:13:13-04:00</td>\n",
       "      <td>13973</td>\n",
       "      <td>0</td>\n",
       "      <td>17</td>\n",
       "      <td>8</td>\n",
       "      <td>perk, martyrdom, live grenade, reaction image,...</td>\n",
       "      <td>Martyrdom (Drop a Live Grenade When Killed) re...</td>\n",
       "      <td>On April 12th, 2007, first person shooter Call...</td>\n",
       "      <td>Spread The exact first instance of use of the ...</td>\n",
       "    </tr>\n",
       "    <tr>\n",
       "      <th>2</th>\n",
       "      <td>Wet Kylo Ren</td>\n",
       "      <td>Submission</td>\n",
       "      <td>Image Macro</td>\n",
       "      <td>2019</td>\n",
       "      <td>Star Wars: The Rise of Skywalker (Movie Trailer)</td>\n",
       "      <td>2019-10-23T11:56:19-04:00</td>\n",
       "      <td>5339</td>\n",
       "      <td>0</td>\n",
       "      <td>12</td>\n",
       "      <td>7</td>\n",
       "      <td>kylo ren, star wars the rise of skywalker, ada...</td>\n",
       "      <td>Wet Kylo Ren is an image macro series based on...</td>\n",
       "      <td>On October 21st, 2019, the final trailer for t...</td>\n",
       "      <td>Shortly after the trailer's release, some on T...</td>\n",
       "    </tr>\n",
       "  </tbody>\n",
       "</table>\n",
       "</div>"
      ],
      "text/plain": [
       "                                          name      status         type  \\\n",
       "0                                   Muvvafukka  Submission  Viral Video   \n",
       "1  Martyrdom (Drop a Live Grenade When Killed)  Submission     Reaction   \n",
       "2                                 Wet Kylo Ren  Submission  Image Macro   \n",
       "\n",
       "  origin_year                                      origin_place  \\\n",
       "0        2019                                          Facebook   \n",
       "1        2007                    Call of Duty 4: Modern Warfare   \n",
       "2        2019  Star Wars: The Rise of Skywalker (Movie Trailer)   \n",
       "\n",
       "                  date_added  views  videos  photos  comments  \\\n",
       "0  2019-10-24T04:05:03-04:00  13613       0       7         8   \n",
       "1  2019-10-23T12:13:13-04:00  13973       0      17         8   \n",
       "2  2019-10-23T11:56:19-04:00   5339       0      12         7   \n",
       "\n",
       "                                                tags  \\\n",
       "0  jay-lee hilzinger & maddie flynn, eshayz, davi...   \n",
       "1  perk, martyrdom, live grenade, reaction image,...   \n",
       "2  kylo ren, star wars the rise of skywalker, ada...   \n",
       "\n",
       "                                               about  \\\n",
       "0  Muvvafukka refers to a viral video of two teen...   \n",
       "1  Martyrdom (Drop a Live Grenade When Killed) re...   \n",
       "2  Wet Kylo Ren is an image macro series based on...   \n",
       "\n",
       "                                              origin  \\\n",
       "0  While it appears the original video is deleted...   \n",
       "1  On April 12th, 2007, first person shooter Call...   \n",
       "2  On October 21st, 2019, the final trailer for t...   \n",
       "\n",
       "                                          other_text  \n",
       "0  Butler also made a screenshot of Hilzinger's f...  \n",
       "1  Spread The exact first instance of use of the ...  \n",
       "2  Shortly after the trailer's release, some on T...  "
      ]
     },
     "execution_count": 8,
     "metadata": {},
     "output_type": "execute_result"
    }
   ],
   "source": [
    "memes.head(3)"
   ]
  },
  {
   "cell_type": "code",
   "execution_count": 9,
   "id": "cba60d53",
   "metadata": {},
   "outputs": [
    {
     "data": {
      "text/html": [
       "<div>\n",
       "<style scoped>\n",
       "    .dataframe tbody tr th:only-of-type {\n",
       "        vertical-align: middle;\n",
       "    }\n",
       "\n",
       "    .dataframe tbody tr th {\n",
       "        vertical-align: top;\n",
       "    }\n",
       "\n",
       "    .dataframe thead th {\n",
       "        text-align: right;\n",
       "    }\n",
       "</style>\n",
       "<table border=\"1\" class=\"dataframe\">\n",
       "  <thead>\n",
       "    <tr style=\"text-align: right;\">\n",
       "      <th></th>\n",
       "      <th>name</th>\n",
       "      <th>status</th>\n",
       "      <th>type</th>\n",
       "      <th>origin_year</th>\n",
       "      <th>origin_place</th>\n",
       "      <th>date_added</th>\n",
       "      <th>views</th>\n",
       "      <th>videos</th>\n",
       "      <th>photos</th>\n",
       "      <th>comments</th>\n",
       "      <th>tags</th>\n",
       "      <th>about</th>\n",
       "      <th>origin</th>\n",
       "      <th>other_text</th>\n",
       "    </tr>\n",
       "  </thead>\n",
       "  <tbody>\n",
       "    <tr>\n",
       "      <th>4203</th>\n",
       "      <td>Because of Parkinson's</td>\n",
       "      <td>Confirmed</td>\n",
       "      <td>NaN</td>\n",
       "      <td>2006</td>\n",
       "      <td>YTMND</td>\n",
       "      <td>2013-09-26T16:26:49-04:00</td>\n",
       "      <td>205323</td>\n",
       "      <td>2</td>\n",
       "      <td>101</td>\n",
       "      <td>61</td>\n",
       "      <td>michael j. fox, joke, image macro, 4chan, cele...</td>\n",
       "      <td>Because of Parkinson's (also known as \"Michael...</td>\n",
       "      <td>Michel J. Fox is an Canadian–American actor an...</td>\n",
       "      <td>The first instance of Michael J. Fox's equatio...</td>\n",
       "    </tr>\n",
       "    <tr>\n",
       "      <th>4204</th>\n",
       "      <td>Paranoid Parrot</td>\n",
       "      <td>Confirmed</td>\n",
       "      <td>Image Macro</td>\n",
       "      <td>2009</td>\n",
       "      <td>r9k</td>\n",
       "      <td>2019-10-31T03:47:02-04:00</td>\n",
       "      <td>416158</td>\n",
       "      <td>2</td>\n",
       "      <td>218</td>\n",
       "      <td>51</td>\n",
       "      <td>4chan, parrot, paranoia, paranoid parrot, advi...</td>\n",
       "      <td>Paranoid Parrot is an advice animal image macr...</td>\n",
       "      <td>While the photographer is unknown, the origina...</td>\n",
       "      <td>In 2007, the same image was used to illustrate...</td>\n",
       "    </tr>\n",
       "    <tr>\n",
       "      <th>4205</th>\n",
       "      <td>I Believe You Have My Stapler</td>\n",
       "      <td>Confirmed</td>\n",
       "      <td>Pop Culture Reference</td>\n",
       "      <td>2004</td>\n",
       "      <td>YTMND</td>\n",
       "      <td>2018-04-09T16:28:49-04:00</td>\n",
       "      <td>109512</td>\n",
       "      <td>1</td>\n",
       "      <td>25</td>\n",
       "      <td>29</td>\n",
       "      <td>movie, catchphrase, film, office space, movie ...</td>\n",
       "      <td>NaN</td>\n",
       "      <td>Office Space was a 1999 comedy by Beavis and B...</td>\n",
       "      <td>Milton Waddams (played by actor Stephen Root) ...</td>\n",
       "    </tr>\n",
       "  </tbody>\n",
       "</table>\n",
       "</div>"
      ],
      "text/plain": [
       "                               name     status                   type  \\\n",
       "4203         Because of Parkinson's  Confirmed                    NaN   \n",
       "4204                Paranoid Parrot  Confirmed            Image Macro   \n",
       "4205  I Believe You Have My Stapler  Confirmed  Pop Culture Reference   \n",
       "\n",
       "     origin_year origin_place                 date_added   views  videos  \\\n",
       "4203        2006        YTMND  2013-09-26T16:26:49-04:00  205323       2   \n",
       "4204        2009          r9k  2019-10-31T03:47:02-04:00  416158       2   \n",
       "4205        2004        YTMND  2018-04-09T16:28:49-04:00  109512       1   \n",
       "\n",
       "      photos  comments                                               tags  \\\n",
       "4203     101        61  michael j. fox, joke, image macro, 4chan, cele...   \n",
       "4204     218        51  4chan, parrot, paranoia, paranoid parrot, advi...   \n",
       "4205      25        29  movie, catchphrase, film, office space, movie ...   \n",
       "\n",
       "                                                  about  \\\n",
       "4203  Because of Parkinson's (also known as \"Michael...   \n",
       "4204  Paranoid Parrot is an advice animal image macr...   \n",
       "4205                                                NaN   \n",
       "\n",
       "                                                 origin  \\\n",
       "4203  Michel J. Fox is an Canadian–American actor an...   \n",
       "4204  While the photographer is unknown, the origina...   \n",
       "4205  Office Space was a 1999 comedy by Beavis and B...   \n",
       "\n",
       "                                             other_text  \n",
       "4203  The first instance of Michael J. Fox's equatio...  \n",
       "4204  In 2007, the same image was used to illustrate...  \n",
       "4205  Milton Waddams (played by actor Stephen Root) ...  "
      ]
     },
     "execution_count": 9,
     "metadata": {},
     "output_type": "execute_result"
    }
   ],
   "source": [
    "memes.tail(3)"
   ]
  },
  {
   "cell_type": "markdown",
   "id": "cb1cb148",
   "metadata": {},
   "source": [
    "### Часть 2. первичный анализ признаков\n",
    "\n",
    "Конечно же в первую очередь хочется посмотреть на самый популярный мем"
   ]
  },
  {
   "cell_type": "code",
   "execution_count": 10,
   "id": "3a12eb6b",
   "metadata": {},
   "outputs": [
    {
     "data": {
      "text/html": [
       "<div>\n",
       "<style scoped>\n",
       "    .dataframe tbody tr th:only-of-type {\n",
       "        vertical-align: middle;\n",
       "    }\n",
       "\n",
       "    .dataframe tbody tr th {\n",
       "        vertical-align: top;\n",
       "    }\n",
       "\n",
       "    .dataframe thead th {\n",
       "        text-align: right;\n",
       "    }\n",
       "</style>\n",
       "<table border=\"1\" class=\"dataframe\">\n",
       "  <thead>\n",
       "    <tr style=\"text-align: right;\">\n",
       "      <th></th>\n",
       "      <th>name</th>\n",
       "      <th>status</th>\n",
       "      <th>type</th>\n",
       "      <th>origin_year</th>\n",
       "      <th>origin_place</th>\n",
       "      <th>date_added</th>\n",
       "      <th>views</th>\n",
       "      <th>videos</th>\n",
       "      <th>photos</th>\n",
       "      <th>comments</th>\n",
       "      <th>tags</th>\n",
       "      <th>about</th>\n",
       "      <th>origin</th>\n",
       "      <th>other_text</th>\n",
       "    </tr>\n",
       "  </thead>\n",
       "  <tbody>\n",
       "    <tr>\n",
       "      <th>3958</th>\n",
       "      <td>Me Gusta</td>\n",
       "      <td>Confirmed</td>\n",
       "      <td>Character</td>\n",
       "      <td>2010</td>\n",
       "      <td>4chan</td>\n",
       "      <td>2018-09-27T16:03:51-04:00</td>\n",
       "      <td>9095857</td>\n",
       "      <td>21</td>\n",
       "      <td>518</td>\n",
       "      <td>142</td>\n",
       "      <td>4chan, rageguy, spinoff, 4 panel comic, me gus...</td>\n",
       "      <td>Me Gusta is a rage comic face that is typicall...</td>\n",
       "      <td>The colloquial Spanish phrase \"Me Gusta\" was f...</td>\n",
       "      <td>Spread In December 2010, the single topic blog...</td>\n",
       "    </tr>\n",
       "  </tbody>\n",
       "</table>\n",
       "</div>"
      ],
      "text/plain": [
       "          name     status       type origin_year origin_place  \\\n",
       "3958  Me Gusta  Confirmed  Character        2010        4chan   \n",
       "\n",
       "                     date_added    views  videos  photos  comments  \\\n",
       "3958  2018-09-27T16:03:51-04:00  9095857      21     518       142   \n",
       "\n",
       "                                                   tags  \\\n",
       "3958  4chan, rageguy, spinoff, 4 panel comic, me gus...   \n",
       "\n",
       "                                                  about  \\\n",
       "3958  Me Gusta is a rage comic face that is typicall...   \n",
       "\n",
       "                                                 origin  \\\n",
       "3958  The colloquial Spanish phrase \"Me Gusta\" was f...   \n",
       "\n",
       "                                             other_text  \n",
       "3958  Spread In December 2010, the single topic blog...  "
      ]
     },
     "execution_count": 10,
     "metadata": {},
     "output_type": "execute_result"
    }
   ],
   "source": [
    "memes[memes.views==memes.views.max()]"
   ]
  },
  {
   "cell_type": "markdown",
   "id": "722b409a",
   "metadata": {},
   "source": [
    "### Время добавления\n",
    "Так как в нашем распоряжении есть переменная added, то можно поиграться с ней, преобразовав в понятный питону формат\n",
    "и получить час, день, месяц, год добавления"
   ]
  },
  {
   "cell_type": "code",
   "execution_count": 11,
   "id": "b5a556ad",
   "metadata": {},
   "outputs": [],
   "source": [
    "memes['Timestamp'] = pd.to_datetime(memes['date_added'])"
   ]
  },
  {
   "cell_type": "code",
   "execution_count": 12,
   "id": "58d657a4",
   "metadata": {},
   "outputs": [
    {
     "name": "stdout",
     "output_type": "stream",
     "text": [
      "<class 'pandas.core.frame.DataFrame'>\n",
      "RangeIndex: 4206 entries, 0 to 4205\n",
      "Data columns (total 20 columns):\n",
      " #   Column        Non-Null Count  Dtype \n",
      "---  ------        --------------  ----- \n",
      " 0   name          4206 non-null   object\n",
      " 1   status        4206 non-null   object\n",
      " 2   type          1786 non-null   object\n",
      " 3   origin_year   4206 non-null   object\n",
      " 4   origin_place  4205 non-null   object\n",
      " 5   date_added    4206 non-null   object\n",
      " 6   views         4206 non-null   int64 \n",
      " 7   videos        4206 non-null   int64 \n",
      " 8   photos        4206 non-null   int64 \n",
      " 9   comments      4206 non-null   int64 \n",
      " 10  tags          4205 non-null   object\n",
      " 11  about         3798 non-null   object\n",
      " 12  origin        2524 non-null   object\n",
      " 13  other_text    3508 non-null   object\n",
      " 14  Timestamp     4206 non-null   object\n",
      " 15  Year          4206 non-null   int64 \n",
      " 16  Month         4206 non-null   int64 \n",
      " 17  Day           4206 non-null   int64 \n",
      " 18  Hour          4206 non-null   int64 \n",
      " 19  Weekday       4206 non-null   int64 \n",
      "dtypes: int64(9), object(11)\n",
      "memory usage: 657.3+ KB\n"
     ]
    }
   ],
   "source": [
    "memes['Year'] = memes.Timestamp.apply(lambda x: x.year)\n",
    "memes['Month'] = memes.Timestamp.apply(lambda x: x.month)\n",
    "memes['Day'] = memes.Timestamp.apply(lambda x: x.day)\n",
    "memes['Hour'] = memes.Timestamp.apply(lambda x: x.hour)\n",
    "memes['Weekday'] = memes.Timestamp.apply(lambda x: x.weekday())\n",
    "\n",
    "memes.info()"
   ]
  },
  {
   "cell_type": "markdown",
   "id": "4c3693b8",
   "metadata": {},
   "source": [
    "Так же пригодится переменная, отвечающая за число дней, прошедших с момента досбавления на сайт"
   ]
  },
  {
   "cell_type": "code",
   "execution_count": 13,
   "id": "fdc1ee00",
   "metadata": {},
   "outputs": [],
   "source": [
    "memes['days_from_creation'] = (memes.Timestamp.max() - memes.Timestamp) / np.timedelta64(1, 'D')"
   ]
  },
  {
   "cell_type": "code",
   "execution_count": 14,
   "id": "002d6e25",
   "metadata": {},
   "outputs": [
    {
     "data": {
      "text/plain": [
       "'2019-10-24T04:05:03-04:00'"
      ]
     },
     "execution_count": 14,
     "metadata": {},
     "output_type": "execute_result"
    }
   ],
   "source": [
    "memes.date_added[0]"
   ]
  },
  {
   "cell_type": "code",
   "execution_count": 15,
   "id": "5f1ba4a0",
   "metadata": {},
   "outputs": [
    {
     "data": {
      "text/plain": [
       "3"
      ]
     },
     "execution_count": 15,
     "metadata": {},
     "output_type": "execute_result"
    }
   ],
   "source": [
    "pd.to_datetime(memes.date_added[0]).weekday()"
   ]
  },
  {
   "cell_type": "markdown",
   "id": "c9b4f820",
   "metadata": {},
   "source": [
    "А теперь, для наших созданных переменных построим несколько гистограмм"
   ]
  },
  {
   "cell_type": "code",
   "execution_count": 16,
   "id": "f907a369",
   "metadata": {},
   "outputs": [
    {
     "data": {
      "image/png": "[encoded data removed]",
      "text/plain": [
       "<Figure size 1080x720 with 4 Axes>"
      ]
     },
     "metadata": {
      "needs_background": "light"
     },
     "output_type": "display_data"
    }
   ],
   "source": [
    "f, axarr = plt.subplots(2, 2, figsize=(15, 10))\n",
    "times = ['Month', 'Day', 'Hour', 'Weekday']\n",
    "bins = [12, 31, 24, 7]\n",
    "index = 0\n",
    "for i in range(2):\n",
    "    for j in range(2):\n",
    "        axarr[i, j].hist(memes[times[index]], bins=bins[index])\n",
    "        axarr[i, j].set_title(f'Histogram of {times[index]}')\n",
    "\n",
    "        index += 1\n",
    "\n",
    "f.subplots_adjust(hspace=0.2)"
   ]
  },
  {
   "cell_type": "code",
   "execution_count": 17,
   "id": "58da3c2d",
   "metadata": {},
   "outputs": [
    {
     "data": {
      "image/png": "[encoded data removed]",
      "text/plain": [
       "<Figure size 720x360 with 1 Axes>"
      ]
     },
     "metadata": {
      "needs_background": "light"
     },
     "output_type": "display_data"
    }
   ],
   "source": [
    "memes.Year.value_counts().plot(kind='bar', figsize=(10, 5))\n",
    "plt.title('Histogram of the year')\n",
    "plt.show()"
   ]
  },
  {
   "cell_type": "code",
   "execution_count": 18,
   "id": "5ebd58ef",
   "metadata": {},
   "outputs": [
    {
     "data": {
      "text/plain": [
       "2019    27.41\n",
       "2018    15.93\n",
       "2017    11.70\n",
       "2016     9.77\n",
       "2015     7.66\n",
       "2014     6.92\n",
       "2011     5.37\n",
       "2012     5.33\n",
       "2010     4.97\n",
       "2013     4.33\n",
       "2009     0.62\n",
       "Name: Year, dtype: object"
      ]
     },
     "execution_count": 18,
     "metadata": {},
     "output_type": "execute_result"
    }
   ],
   "source": [
    "memes.Year.value_counts(normalize=True).apply(lambda x: f'{x*100:.2f}')"
   ]
  },
  {
   "cell_type": "code",
   "execution_count": 19,
   "id": "5c0682bf",
   "metadata": {},
   "outputs": [
    {
     "name": "stderr",
     "output_type": "stream",
     "text": [
      "<ipython-input-19-ef6432d72ec0>:2: SettingWithCopyWarning: \n",
      "A value is trying to be set on a copy of a slice from a DataFrame\n",
      "\n",
      "See the caveats in the documentation: https://pandas.pydata.org/pandas-docs/stable/user_guide/indexing.html#returning-a-view-versus-a-copy\n",
      "  memes.tags[memes.tags.isin(['none...', 'none', 'Unknown', 'none... Unknown', 'None'])] = 'unknown'\n"
     ]
    }
   ],
   "source": [
    "pd.set_option('mode.chained_assignment','warn')\n",
    "memes.tags[memes.tags.isin(['none...', 'none', 'Unknown', 'none... Unknown', 'None'])] = 'unknown'"
   ]
  },
  {
   "cell_type": "code",
   "execution_count": 20,
   "id": "21540d7d",
   "metadata": {},
   "outputs": [
    {
     "data": {
      "text/plain": [
       "count        4206\n",
       "unique        117\n",
       "top       Unknown\n",
       "freq          349\n",
       "Name: origin_year, dtype: object"
      ]
     },
     "execution_count": 20,
     "metadata": {},
     "output_type": "execute_result"
    }
   ],
   "source": [
    "memes.origin_year.describe()"
   ]
  },
  {
   "cell_type": "code",
   "execution_count": 21,
   "id": "d079e7ec",
   "metadata": {},
   "outputs": [
    {
     "name": "stderr",
     "output_type": "stream",
     "text": [
      "<ipython-input-21-6a39d0d8ae4e>:1: SettingWithCopyWarning: \n",
      "A value is trying to be set on a copy of a slice from a DataFrame\n",
      "\n",
      "See the caveats in the documentation: https://pandas.pydata.org/pandas-docs/stable/user_guide/indexing.html#returning-a-view-versus-a-copy\n",
      "  memes.origin_year[memes.origin_year=='Unknown'] = None\n"
     ]
    }
   ],
   "source": [
    "memes.origin_year[memes.origin_year=='Unknown'] = None"
   ]
  },
  {
   "cell_type": "code",
   "execution_count": 22,
   "id": "58c3d649",
   "metadata": {},
   "outputs": [],
   "source": [
    "memes.origin_year.fillna(0, inplace=True)"
   ]
  },
  {
   "cell_type": "code",
   "execution_count": 23,
   "id": "8661952d",
   "metadata": {},
   "outputs": [
    {
     "name": "stderr",
     "output_type": "stream",
     "text": [
      "<ipython-input-23-251f79d4276b>:1: SettingWithCopyWarning: \n",
      "A value is trying to be set on a copy of a slice from a DataFrame\n",
      "\n",
      "See the caveats in the documentation: https://pandas.pydata.org/pandas-docs/stable/user_guide/indexing.html#returning-a-view-versus-a-copy\n",
      "  memes.origin_year[~memes.origin_year.apply(lambda x: str(x).isdigit())] = 0\n"
     ]
    }
   ],
   "source": [
    "memes.origin_year[~memes.origin_year.apply(lambda x: str(x).isdigit())] = 0"
   ]
  },
  {
   "cell_type": "code",
   "execution_count": 24,
   "id": "65f44f2f",
   "metadata": {},
   "outputs": [
    {
     "data": {
      "text/plain": [
       "0       True\n",
       "1       True\n",
       "2       True\n",
       "3       True\n",
       "4       True\n",
       "        ... \n",
       "4201    True\n",
       "4202    True\n",
       "4203    True\n",
       "4204    True\n",
       "4205    True\n",
       "Name: origin_year, Length: 4206, dtype: bool"
      ]
     },
     "execution_count": 24,
     "metadata": {},
     "output_type": "execute_result"
    }
   ],
   "source": [
    "memes.origin_year.apply(lambda x: str(x).isdigit())"
   ]
  },
  {
   "cell_type": "code",
   "execution_count": 25,
   "id": "584527a5",
   "metadata": {},
   "outputs": [],
   "source": [
    "# memes.origin_year[(memes.origin_year>2000)&(memes.origin_year<=2020)].hist(bins=200)\n",
    "# plt.show()"
   ]
  },
  {
   "cell_type": "markdown",
   "id": "950d4fb3",
   "metadata": {},
   "source": [
    "### Число просмотров"
   ]
  },
  {
   "cell_type": "code",
   "execution_count": 26,
   "id": "d9a1a8a7",
   "metadata": {},
   "outputs": [
    {
     "data": {
      "image/png": "[encoded data removed]",
      "text/plain": [
       "<Figure size 432x288 with 1 Axes>"
      ]
     },
     "metadata": {
      "needs_background": "light"
     },
     "output_type": "display_data"
    }
   ],
   "source": [
    "memes.views[memes.views>0].hist(bins=10)\n",
    "plt.title('Hist of Views')\n",
    "plt.show()"
   ]
  },
  {
   "cell_type": "code",
   "execution_count": 27,
   "id": "cde314f4",
   "metadata": {},
   "outputs": [
    {
     "data": {
      "image/png": "[encoded data removed]",
      "text/plain": [
       "<Figure size 432x288 with 1 Axes>"
      ]
     },
     "metadata": {
      "needs_background": "light"
     },
     "output_type": "display_data"
    }
   ],
   "source": [
    "memes.views[memes.views>0].apply(np.log).hist(bins=10)\n",
    "plt.title('Hist of log Views')\n",
    "plt.show()"
   ]
  },
  {
   "cell_type": "markdown",
   "id": "251f9372",
   "metadata": {},
   "source": [
    "### Популярность"
   ]
  },
  {
   "cell_type": "markdown",
   "id": "6a6a8b97",
   "metadata": {},
   "source": [
    "Метрикой оценки популярности, в данном случае будет оценка среднего числа просмотров в день. Для этого разделим\n",
    "фактическое число просмотров на число дней, прошедших со дня публикации."
   ]
  },
  {
   "cell_type": "code",
   "execution_count": 28,
   "id": "66b7923f",
   "metadata": {},
   "outputs": [],
   "source": [
    "memes['average_views'] = memes.views/memes.days_from_creation"
   ]
  },
  {
   "cell_type": "code",
   "execution_count": 29,
   "id": "4556b5ee",
   "metadata": {},
   "outputs": [
    {
     "data": {
      "text/html": [
       "<div>\n",
       "<style scoped>\n",
       "    .dataframe tbody tr th:only-of-type {\n",
       "        vertical-align: middle;\n",
       "    }\n",
       "\n",
       "    .dataframe tbody tr th {\n",
       "        vertical-align: top;\n",
       "    }\n",
       "\n",
       "    .dataframe thead th {\n",
       "        text-align: right;\n",
       "    }\n",
       "</style>\n",
       "<table border=\"1\" class=\"dataframe\">\n",
       "  <thead>\n",
       "    <tr style=\"text-align: right;\">\n",
       "      <th></th>\n",
       "      <th>name</th>\n",
       "      <th>status</th>\n",
       "      <th>type</th>\n",
       "      <th>origin_year</th>\n",
       "      <th>origin_place</th>\n",
       "      <th>date_added</th>\n",
       "      <th>views</th>\n",
       "      <th>videos</th>\n",
       "      <th>photos</th>\n",
       "      <th>comments</th>\n",
       "      <th>...</th>\n",
       "      <th>origin</th>\n",
       "      <th>other_text</th>\n",
       "      <th>Timestamp</th>\n",
       "      <th>Year</th>\n",
       "      <th>Month</th>\n",
       "      <th>Day</th>\n",
       "      <th>Hour</th>\n",
       "      <th>Weekday</th>\n",
       "      <th>days_from_creation</th>\n",
       "      <th>average_views</th>\n",
       "    </tr>\n",
       "  </thead>\n",
       "  <tbody>\n",
       "    <tr>\n",
       "      <th>831</th>\n",
       "      <td>Flex Tape</td>\n",
       "      <td>Submission</td>\n",
       "      <td>Advertisement</td>\n",
       "      <td>2017</td>\n",
       "      <td>Flex Seal</td>\n",
       "      <td>2019-11-06T14:33:40-05:00</td>\n",
       "      <td>92958</td>\n",
       "      <td>27</td>\n",
       "      <td>77</td>\n",
       "      <td>22</td>\n",
       "      <td>...</td>\n",
       "      <td>On January 12th, 2017, Flex Seal uploaded a co...</td>\n",
       "      <td>Spread On September 30th, 2017, popular YouTub...</td>\n",
       "      <td>2019-11-06 14:33:40-05:00</td>\n",
       "      <td>2019</td>\n",
       "      <td>11</td>\n",
       "      <td>6</td>\n",
       "      <td>14</td>\n",
       "      <td>2</td>\n",
       "      <td>0.0</td>\n",
       "      <td>inf</td>\n",
       "    </tr>\n",
       "  </tbody>\n",
       "</table>\n",
       "<p>1 rows × 22 columns</p>\n",
       "</div>"
      ],
      "text/plain": [
       "          name      status           type origin_year origin_place  \\\n",
       "831  Flex Tape  Submission  Advertisement        2017    Flex Seal   \n",
       "\n",
       "                    date_added  views  videos  photos  comments  ...  \\\n",
       "831  2019-11-06T14:33:40-05:00  92958      27      77        22  ...   \n",
       "\n",
       "                                                origin  \\\n",
       "831  On January 12th, 2017, Flex Seal uploaded a co...   \n",
       "\n",
       "                                            other_text  \\\n",
       "831  Spread On September 30th, 2017, popular YouTub...   \n",
       "\n",
       "                     Timestamp  Year Month  Day  Hour  Weekday  \\\n",
       "831  2019-11-06 14:33:40-05:00  2019    11    6    14        2   \n",
       "\n",
       "     days_from_creation  average_views  \n",
       "831                 0.0            inf  \n",
       "\n",
       "[1 rows x 22 columns]"
      ]
     },
     "execution_count": 29,
     "metadata": {},
     "output_type": "execute_result"
    }
   ],
   "source": [
    "memes[memes['average_views'] == memes['average_views'].max()]"
   ]
  },
  {
   "cell_type": "code",
   "execution_count": 30,
   "id": "18528768",
   "metadata": {},
   "outputs": [
    {
     "name": "stderr",
     "output_type": "stream",
     "text": [
      "<ipython-input-30-33d403789fc9>:2: SettingWithCopyWarning: \n",
      "A value is trying to be set on a copy of a slice from a DataFrame\n",
      "\n",
      "See the caveats in the documentation: https://pandas.pydata.org/pandas-docs/stable/user_guide/indexing.html#returning-a-view-versus-a-copy\n",
      "  memes['average_views'][index] = memes['views'][index]\n"
     ]
    }
   ],
   "source": [
    "index = memes['average_views'] == memes['average_views'].max()\n",
    "memes['average_views'][index] = memes['views'][index]"
   ]
  },
  {
   "cell_type": "code",
   "execution_count": 31,
   "id": "2d6fd610",
   "metadata": {},
   "outputs": [
    {
     "data": {
      "text/plain": [
       "Text(0.5, 1.0, 'Hist of log average views')"
      ]
     },
     "execution_count": 31,
     "metadata": {},
     "output_type": "execute_result"
    },
    {
     "data": {
      "image/png": "[encoded data removed]",
      "text/plain": [
       "<Figure size 432x288 with 1 Axes>"
      ]
     },
     "metadata": {
      "needs_background": "light"
     },
     "output_type": "display_data"
    }
   ],
   "source": [
    "plt.hist(memes.average_views.apply(np.log))\n",
    "plt.title('Hist of log average views')"
   ]
  },
  {
   "cell_type": "markdown",
   "id": "a46814b3",
   "metadata": {},
   "source": [
    "### Посмотрим на самые популярные"
   ]
  },
  {
   "cell_type": "code",
   "execution_count": 32,
   "id": "a03ea1d1",
   "metadata": {},
   "outputs": [
    {
     "name": "stdout",
     "output_type": "stream",
     "text": [
      "Meme name: Colonel Meow\n",
      "Average views (per day) 536753\n",
      "================\n",
      "\n",
      "Meme name: Distracted Boyfriend\n",
      "Average views (per day) 466923\n",
      "================\n",
      "\n",
      "Meme name: Derp\n",
      "Average views (per day) 300836\n",
      "================\n",
      "\n",
      "Meme name: Need for Speed\n",
      "Average views (per day) 246737\n",
      "================\n",
      "\n",
      "Meme name: Shitposting\n",
      "Average views (per day) 210984\n",
      "================\n",
      "\n",
      "Meme name: Starter Packs\n",
      "Average views (per day) 167624\n",
      "================\n",
      "\n",
      "Meme name: Double D's Facts Book\n",
      "Average views (per day) 166858\n",
      "================\n",
      "\n"
     ]
    }
   ],
   "source": [
    "popular = memes.sort_values(by='average_views', ascending=False)\n",
    "for i in popular.index.tolist()[:7]:\n",
    "    print(f'Meme name: {popular.loc[i, \"name\"]}')\n",
    "    print(f'Average views (per day) {round(popular.loc[i, \"average_views\"])}')\n",
    "    print('================\\n')"
   ]
  },
  {
   "cell_type": "markdown",
   "id": "49862476",
   "metadata": {},
   "source": [
    "### Комментарии\n"
   ]
  },
  {
   "cell_type": "code",
   "execution_count": 33,
   "id": "bcd84f40",
   "metadata": {},
   "outputs": [
    {
     "data": {
      "image/png": "[encoded data removed]",
      "text/plain": [
       "<Figure size 432x288 with 1 Axes>"
      ]
     },
     "metadata": {
      "needs_background": "light"
     },
     "output_type": "display_data"
    }
   ],
   "source": [
    "memes.comments.hist()\n",
    "plt.title('Hist of comments')\n",
    "plt.show()"
   ]
  },
  {
   "cell_type": "markdown",
   "id": "4c6f74a0",
   "metadata": {},
   "source": [
    "### Посмотрим на самые комментируемы"
   ]
  },
  {
   "cell_type": "code",
   "execution_count": 34,
   "id": "f21993a4",
   "metadata": {},
   "outputs": [],
   "source": [
    "memes['average_comments'] = memes.comments/memes.days_from_creation"
   ]
  },
  {
   "cell_type": "code",
   "execution_count": 35,
   "id": "e87896a2",
   "metadata": {},
   "outputs": [
    {
     "name": "stderr",
     "output_type": "stream",
     "text": [
      "<ipython-input-35-f5a439e103ca>:2: SettingWithCopyWarning: \n",
      "A value is trying to be set on a copy of a slice from a DataFrame\n",
      "\n",
      "See the caveats in the documentation: https://pandas.pydata.org/pandas-docs/stable/user_guide/indexing.html#returning-a-view-versus-a-copy\n",
      "  memes['average_comments'][index] = memes['comments'][index]\n"
     ]
    }
   ],
   "source": [
    "index = memes['average_comments']==memes['average_comments'].max()\n",
    "memes['average_comments'][index] = memes['comments'][index]"
   ]
  },
  {
   "cell_type": "code",
   "execution_count": 36,
   "id": "c9c40a4b",
   "metadata": {},
   "outputs": [
    {
     "name": "stdout",
     "output_type": "stream",
     "text": [
      "Meme name: Need for Speed\n",
      "Average comments (per day) 989\n",
      "================\n",
      "\n",
      "Meme name: Hero Cat\n",
      "Average comments (per day) 308\n",
      "================\n",
      "\n",
      "Meme name: Colonel Meow\n",
      "Average comments (per day) 302\n",
      "================\n",
      "\n",
      "Meme name: Miley Cyrus\n",
      "Average comments (per day) 99\n",
      "================\n",
      "\n",
      "Meme name: McDonald’s \"Happy\" Mascot\n",
      "Average comments (per day) 97\n",
      "================\n",
      "\n",
      "Meme name: Metro Man Sees Megamind and Roxie\n",
      "Average comments (per day) 87\n",
      "================\n",
      "\n",
      "Meme name: Double D's Facts Book\n",
      "Average comments (per day) 83\n",
      "================\n",
      "\n"
     ]
    }
   ],
   "source": [
    "popular = memes.sort_values(by='average_comments', ascending=False)\n",
    "for i in popular.index.tolist()[:7]:\n",
    "    print(f'Meme name: {popular.loc[i, \"name\"]}')\n",
    "    print(f'Average comments (per day) {round(popular.loc[i, \"average_comments\"])}')\n",
    "    print('================\\n')"
   ]
  },
  {
   "cell_type": "markdown",
   "id": "1a09c911",
   "metadata": {},
   "source": [
    "### Статус"
   ]
  },
  {
   "cell_type": "code",
   "execution_count": 37,
   "id": "aa68bbf4",
   "metadata": {},
   "outputs": [
    {
     "data": {
      "image/png": "[encoded data removed]",
      "text/plain": [
       "<Figure size 432x288 with 1 Axes>"
      ]
     },
     "metadata": {
      "needs_background": "light"
     },
     "output_type": "display_data"
    }
   ],
   "source": [
    "memes.status.value_counts().plot(kind='barh')\n",
    "plt.title('Hist of status')\n",
    "plt.show()"
   ]
  },
  {
   "cell_type": "markdown",
   "id": "670743cf",
   "metadata": {},
   "source": [
    "А вот здесь можно попутно решать задачу множественной классификации - для каждого мема есть 3 состояния\n",
    "\n",
    "- Submission - добавлен недавно или ещё не стал \"признанным в обществе\"\n",
    "- Deadpool - если умер и не используется\n",
    "- Confirmed - активно используется и получил статус \"подтверждённого\" мема"
   ]
  },
  {
   "cell_type": "markdown",
   "id": "c644d714",
   "metadata": {},
   "source": [
    "### ML"
   ]
  },
  {
   "cell_type": "code",
   "execution_count": 38,
   "id": "c4a4e999",
   "metadata": {},
   "outputs": [],
   "source": [
    "import nltk\n",
    "from nltk.corpus import stopwords"
   ]
  },
  {
   "cell_type": "code",
   "execution_count": 39,
   "id": "8bec60c2",
   "metadata": {},
   "outputs": [],
   "source": [
    "stop = stopwords.words('english')\n",
    "stemmer = nltk.stem.snowball.EnglishStemmer('english')\n",
    "\n",
    "def data_stemmer(text):\n",
    "    return ' '.join([stemmer.stem(word) for word in text.split(' ') if word not in stop])"
   ]
  },
  {
   "cell_type": "code",
   "execution_count": 40,
   "id": "e8c20211",
   "metadata": {},
   "outputs": [],
   "source": [
    "memes['description'] = memes.tags.fillna('')+' '+\\\n",
    "                       memes.about.fillna('')+' '+\\\n",
    "                       memes.origin.fillna('')+' '+\\\n",
    "                       memes.other_text.fillna('')"
   ]
  },
  {
   "cell_type": "code",
   "execution_count": 41,
   "id": "4a79518a",
   "metadata": {},
   "outputs": [],
   "source": [
    "memes.description = memes.description.apply(lambda x: x.lower().replace('unknown', ''))"
   ]
  },
  {
   "cell_type": "code",
   "execution_count": 42,
   "id": "28c6e903",
   "metadata": {},
   "outputs": [
    {
     "data": {
      "text/plain": [
       "'jay-lee hilzinger & maddie flynn, eshayz, david jones, freakout, jay-lee hilzinger, maddie flynn, frazzle tazz, caiden butler, declan, zinger burgers, simbra, sir david attenborough, daniel sanders muvvafukka refers to a viral video of two teenage girls, jay-lee hilzinger and maddie flynn, having a tantrum in australian department store david jones. quotes from the video, as well as a face hilzinger made in the video, have been parodied in memes in australian areas of the internet. while it appears the original video is deleted, it appears to have been first posted to facebook on october 20th, 2019. the person holding the camera says its \"a sunday,\" indicating the likely date the tantrum was filmed was sunday, october 20th. a screen-capture of the video when it was live on facebook was posted to youtube by user frazzle tazz on the 21st.[1] the screen capture is taken from a video posted by facebook user caiden butler. butler has also posted the video to youtube (shown below). butler also made a screenshot of hilzinger\\'s face in the video his cover photo on the 20th.[2] the face (shown below), would be used in future photoshop memes.     spread after the video grew popular on facebook and youtube, australian internet users began joking about it with various memes. youtuber simbra edited clips of the two girls into a commercial for zinger burgers, making a pun on hilzinger\\'s name, gaining over 5,700 views (shown below, left). user declan made a video in which sir david attenborough\\'s planet earth narration plays over the clip (shown below, right).     the video was also the source of dozens of photoshops, many of which used the face butler screenshot for his cover photo. facebook user daniel sanders[3] posted a collection of photoshops, gaining over 1,400 reactions (examples shown below).     various examples          search interest   trends.embed.renderexplorewidget(\"timeseries\", {\"comparisonitem\":[{\"keyword\":\"muvvafukka\",\"geo\":\"\",\"time\":\"now 7-d\"}],\"category\":0,\"property\":\"\"}, {\"explorequery\":\"date=now%207-d&q=muvvafukka\",\"guestpath\":\"https://trends.google.com:443/trends/embed/\"}); know your meme store external references  [1] youtube – muvvafukka eshay loses her mind! muvaf*ka crazy eshayz bother people. jay lee hilzinger/maddie flynn [2] facebook – caiden butler [3] facebook – daniel sanders'"
      ]
     },
     "execution_count": 42,
     "metadata": {},
     "output_type": "execute_result"
    }
   ],
   "source": [
    "memes.description[0]"
   ]
  },
  {
   "cell_type": "code",
   "execution_count": 43,
   "id": "a07f224f",
   "metadata": {},
   "outputs": [
    {
     "data": {
      "text/plain": [
       "'jay-le hilzing & maddi flynn, eshayz, david jones, freakout, jay-le hilzinger, maddi flynn, frazzl tazz, caiden butler, declan, zinger burgers, simbra, sir david attenborough, daniel sander muvvafukka refer viral video two teenag girls, jay-le hilzing maddi flynn, tantrum australian depart store david jones. quot video, well face hilzing made video, parodi meme australian area internet. appear origin video deleted, appear first post facebook octob 20th, 2019. person hold camera say \"a sunday,\" indic like date tantrum film sunday, octob 20th. screen-captur video live facebook post youtub user frazzl tazz 21st.[1] screen captur taken video post facebook user caiden butler. butler also post video youtub (shown below). butler also made screenshot hilzing face video cover photo 20th.[2] face (shown below), would use futur photoshop memes.     spread video grew popular facebook youtube, australian internet user began joke various memes. youtub simbra edit clip two girl commerci zinger burgers, make pun hilzing name, gain 5,700 view (shown below, left). user declan made video sir david attenborough planet earth narrat play clip (shown below, right).     video also sourc dozen photoshops, mani use face butler screenshot cover photo. facebook user daniel sanders[3] post collect photoshops, gain 1,400 reaction (exampl shown below).     various exampl          search interest   trends.embed.renderexplorewidget(\"timeseries\", {\"comparisonitem\":[{\"keyword\":\"muvvafukka\",\"geo\":\"\",\"time\":\"now 7-d\"}],\"category\":0,\"property\":\"\"}, {\"explorequery\":\"date=now%207-d&q=muvvafukka\",\"guestpath\":\"https://trends.google.com:443/trends/embed/\"}); know meme store extern refer  [1] youtub – muvvafukka eshay lose mind! muvaf*ka crazi eshayz bother people. jay lee hilzinger/maddi flynn [2] facebook – caiden butler [3] facebook – daniel sander'"
      ]
     },
     "execution_count": 43,
     "metadata": {},
     "output_type": "execute_result"
    }
   ],
   "source": [
    "data_stemmer(memes.description[0])"
   ]
  },
  {
   "cell_type": "code",
   "execution_count": 44,
   "id": "d4835ae5",
   "metadata": {},
   "outputs": [],
   "source": [
    "memes.description = memes.description.apply(lambda x: data_stemmer(x))"
   ]
  },
  {
   "cell_type": "code",
   "execution_count": 45,
   "id": "be506121",
   "metadata": {},
   "outputs": [],
   "source": [
    "X = memes.description\n",
    "y = memes.average_views"
   ]
  },
  {
   "cell_type": "markdown",
   "id": "67c8ac86",
   "metadata": {},
   "source": [
    "Для TF-IDF попробуем использовать биграммы, а чтобы словарь не раздувался до неадекватных размеров, ограничим \n",
    "минимальную частоту содержания слов в документе 0.1%. Т.е. будем выкидывать такие слова и биграммы, \n",
    "которые встречаются реже, чем в 0.1% длокументов."
   ]
  },
  {
   "cell_type": "code",
   "execution_count": 46,
   "id": "e5fc7b9b",
   "metadata": {},
   "outputs": [],
   "source": [
    "from sklearn.feature_extraction.text import TfidfTransformer, TfidfVectorizer\n",
    "\n",
    "tf_vectorizer = TfidfVectorizer(stop_words=stop, ngram_range=(1, 2), min_df=0.001, norm='l2')"
   ]
  },
  {
   "cell_type": "code",
   "execution_count": 47,
   "id": "d68361c7",
   "metadata": {},
   "outputs": [],
   "source": [
    "Xtr, Xval, ytr, yval = train_test_split(X, y, test_size=.3, random_state=42)"
   ]
  },
  {
   "cell_type": "code",
   "execution_count": 48,
   "id": "8ae0e906",
   "metadata": {},
   "outputs": [
    {
     "data": {
      "text/plain": [
       "((2944, 38513), (1262, 38513))"
      ]
     },
     "execution_count": 48,
     "metadata": {},
     "output_type": "execute_result"
    }
   ],
   "source": [
    "Xtr_tfidf = tf_vectorizer.fit_transform(Xtr)\n",
    "Xval_tfidf = tf_vectorizer.transform(Xval)\n",
    "Xtr_tfidf.shape, Xval_tfidf.shape"
   ]
  },
  {
   "cell_type": "code",
   "execution_count": 49,
   "id": "d957cb27",
   "metadata": {},
   "outputs": [
    {
     "data": {
      "text/plain": [
       "<2944x38513 sparse matrix of type '<class 'numpy.float64'>'\n",
       "\twith 664372 stored elements in Compressed Sparse Row format>"
      ]
     },
     "execution_count": 49,
     "metadata": {},
     "output_type": "execute_result"
    }
   ],
   "source": [
    "Xtr_tfidf"
   ]
  },
  {
   "cell_type": "markdown",
   "id": "ed09a98d",
   "metadata": {},
   "source": [
    "Целевую переменную (среднее сичло просмотров в день), разделим на 5 групп по квантилям, одновременно получая наивный baseline - если мы по всем объектам примем один класс,то итоговая точность составит 1/5 = 20%. еще один подход плюс\n",
    "подхода - дисбаланса классов у нас точно не будет."
   ]
  },
  {
   "cell_type": "code",
   "execution_count": 50,
   "id": "a2d36aaf",
   "metadata": {},
   "outputs": [],
   "source": [
    "ytr_quantile = pd.qcut(ytr, q=3)"
   ]
  },
  {
   "cell_type": "code",
   "execution_count": 51,
   "id": "67b42373",
   "metadata": {},
   "outputs": [
    {
     "data": {
      "text/plain": [
       "(0.096, 7.114]          982\n",
       "(7.114, 58.965]         981\n",
       "(58.965, 536753.118]    981\n",
       "Name: average_views, dtype: int64"
      ]
     },
     "execution_count": 51,
     "metadata": {},
     "output_type": "execute_result"
    }
   ],
   "source": [
    "ytr_quantile.value_counts()"
   ]
  },
  {
   "cell_type": "markdown",
   "id": "18ab0453",
   "metadata": {},
   "source": [
    "Для будущих нужд запомним имеющиеся интервалы"
   ]
  },
  {
   "cell_type": "code",
   "execution_count": 52,
   "id": "09313628",
   "metadata": {},
   "outputs": [
    {
     "data": {
      "text/plain": [
       "<IntervalArray>\n",
       "[(0.096, 7.114], (7.114, 58.965], (58.965, 536753.118]]\n",
       "Length: 3, closed: right, dtype: interval[float64]"
      ]
     },
     "execution_count": 52,
     "metadata": {},
     "output_type": "execute_result"
    }
   ],
   "source": [
    "intervals = ytr_quantile.unique().categories.values\n",
    "intervals"
   ]
  },
  {
   "cell_type": "markdown",
   "id": "d3c9918a",
   "metadata": {},
   "source": [
    "Так как на текстовой выборке мы аналогичное преобразование с квантилем выполнять не можем (группы не будут совпадать)\n",
    "запишем функцию для преобразования тестовых значений"
   ]
  },
  {
   "cell_type": "code",
   "execution_count": 53,
   "id": "837cc298",
   "metadata": {},
   "outputs": [],
   "source": [
    "def quantile(y):\n",
    "    for interval in intervals:\n",
    "        if y <= interval.right:\n",
    "            return interval\n",
    "            break\n",
    "    return interval"
   ]
  },
  {
   "cell_type": "code",
   "execution_count": 54,
   "id": "8071eccd",
   "metadata": {},
   "outputs": [],
   "source": [
    "yval_quantile = yval.apply(quantile)"
   ]
  },
  {
   "cell_type": "code",
   "execution_count": 55,
   "id": "15eda69c",
   "metadata": {},
   "outputs": [
    {
     "data": {
      "text/plain": [
       "(58.965, 536753.118]    436\n",
       "(7.114, 58.965]         426\n",
       "(0.096, 7.114]          400\n",
       "Name: average_views, dtype: int64"
      ]
     },
     "execution_count": 55,
     "metadata": {},
     "output_type": "execute_result"
    }
   ],
   "source": [
    "yval_quantile.value_counts()"
   ]
  },
  {
   "cell_type": "markdown",
   "id": "56d60eb7",
   "metadata": {},
   "source": [
    "Наконец для обучения зщакодируем интервалы при помощи LabelEncoder()"
   ]
  },
  {
   "cell_type": "code",
   "execution_count": 56,
   "id": "125617a7",
   "metadata": {},
   "outputs": [],
   "source": [
    "ytr_quantile = le.fit_transform(ytr_quantile)\n",
    "yval_quantile = le.transform(yval_quantile)"
   ]
  },
  {
   "cell_type": "code",
   "execution_count": 57,
   "id": "b806966a",
   "metadata": {},
   "outputs": [
    {
     "data": {
      "text/plain": [
       "array([0, 1, 0, ..., 1, 0, 1])"
      ]
     },
     "execution_count": 57,
     "metadata": {},
     "output_type": "execute_result"
    }
   ],
   "source": [
    "ytr_quantile"
   ]
  },
  {
   "cell_type": "code",
   "execution_count": 58,
   "id": "37ca2fae",
   "metadata": {},
   "outputs": [
    {
     "data": {
      "text/plain": [
       "array([Interval(0.096, 7.114, closed='right'),\n",
       "       Interval(7.114, 58.965, closed='right'),\n",
       "       Interval(0.096, 7.114, closed='right'), ...,\n",
       "       Interval(7.114, 58.965, closed='right'),\n",
       "       Interval(0.096, 7.114, closed='right'),\n",
       "       Interval(7.114, 58.965, closed='right')], dtype=object)"
      ]
     },
     "execution_count": 58,
     "metadata": {},
     "output_type": "execute_result"
    }
   ],
   "source": [
    "le.inverse_transform(ytr_quantile)"
   ]
  },
  {
   "cell_type": "code",
   "execution_count": 59,
   "id": "21153434",
   "metadata": {},
   "outputs": [
    {
     "data": {
      "text/plain": [
       "((2944, 38513), (1262, 38513))"
      ]
     },
     "execution_count": 59,
     "metadata": {},
     "output_type": "execute_result"
    }
   ],
   "source": [
    "Xtr_tfidf.shape, Xval_tfidf.shape"
   ]
  },
  {
   "cell_type": "code",
   "execution_count": 60,
   "id": "469d12b7",
   "metadata": {},
   "outputs": [],
   "source": [
    "from sklearn.linear_model import SGDClassifier, LogisticRegressionCV"
   ]
  },
  {
   "cell_type": "code",
   "execution_count": 61,
   "id": "9d940573",
   "metadata": {},
   "outputs": [],
   "source": [
    "logit_sgd = SGDClassifier(\n",
    "    loss='log',\n",
    "    shuffle=True,\n",
    "    n_iter_no_change=10,\n",
    "    max_iter=1000,\n",
    "    penalty='l1',\n",
    "    random_state=42\n",
    ")"
   ]
  },
  {
   "cell_type": "code",
   "execution_count": 62,
   "id": "989b9a67",
   "metadata": {},
   "outputs": [
    {
     "name": "stdout",
     "output_type": "stream",
     "text": [
      "0.8474864130434783\n",
      "0.6109350237717908\n",
      "              precision    recall  f1-score   support\n",
      "\n",
      "           0       0.81      0.72      0.76       451\n",
      "           1       0.43      0.51      0.47       363\n",
      "           2       0.60      0.58      0.59       448\n",
      "\n",
      "    accuracy                           0.61      1262\n",
      "   macro avg       0.62      0.60      0.61      1262\n",
      "weighted avg       0.63      0.61      0.62      1262\n",
      "\n"
     ]
    }
   ],
   "source": [
    "logit_sgd.fit(Xtr_tfidf, ytr_quantile)\n",
    "print(accuracy_score(logit_sgd.predict(Xtr_tfidf), ytr_quantile))\n",
    "print(accuracy_score(logit_sgd.predict(Xval_tfidf), yval_quantile))\n",
    "\n",
    "print(classification_report(logit_sgd.predict(Xval_tfidf), yval_quantile))"
   ]
  },
  {
   "cell_type": "code",
   "execution_count": 63,
   "id": "441a78f0",
   "metadata": {},
   "outputs": [
    {
     "data": {
      "text/plain": [
       "LogisticRegressionCV(n_jobs=-1)"
      ]
     },
     "execution_count": 63,
     "metadata": {},
     "output_type": "execute_result"
    }
   ],
   "source": [
    "logit_cv = LogisticRegressionCV(Cs=10, n_jobs=-1)\n",
    "logit_cv.fit(Xtr_tfidf, ytr_quantile)"
   ]
  },
  {
   "cell_type": "code",
   "execution_count": 64,
   "id": "db7aba34",
   "metadata": {},
   "outputs": [
    {
     "name": "stdout",
     "output_type": "stream",
     "text": [
      "0.9847146739130435\n",
      "0.6275752773375595\n",
      "              precision    recall  f1-score   support\n",
      "\n",
      "           0       0.83      0.75      0.79       439\n",
      "           1       0.45      0.50      0.48       383\n",
      "           2       0.61      0.61      0.61       440\n",
      "\n",
      "    accuracy                           0.63      1262\n",
      "   macro avg       0.63      0.62      0.63      1262\n",
      "weighted avg       0.64      0.63      0.63      1262\n",
      "\n"
     ]
    }
   ],
   "source": [
    "print(accuracy_score(logit_cv.predict(Xtr_tfidf), ytr_quantile))\n",
    "print(accuracy_score(logit_cv.predict(Xval_tfidf), yval_quantile))\n",
    "\n",
    "print(classification_report(logit_cv.predict(Xval_tfidf), yval_quantile))"
   ]
  },
  {
   "cell_type": "code",
   "execution_count": 65,
   "id": "9839e35b",
   "metadata": {},
   "outputs": [],
   "source": [
    "def visualize_coefficients(coef, feature_names, title, plot_num, n_top_features=25):\n",
    "    interesting_coefficients = np.argsort(coef)[-n_top_features:]\n",
    "    \n",
    "    plt.figure(figsize=(15, 15))\n",
    "    plt.subplot(510+plot_num+1)\n",
    "    colors = ['lightblue' for c in coef[interesting_coefficients]]\n",
    "    plt.bar(np.arange(n_top_features), coef[interesting_coefficients], color=colors)\n",
    "    feature_names = np.array(feature_names)\n",
    "    plt.xticks(np.arange(1, 1 + n_top_features),\n",
    "               feature_names[interesting_coefficients], rotation=60, ha='right', fontsize=14);\n",
    "    plt.title(title)"
   ]
  },
  {
   "cell_type": "code",
   "execution_count": 66,
   "id": "3225d39b",
   "metadata": {},
   "outputs": [
    {
     "data": {
      "text/plain": [
       "(3, 38513)"
      ]
     },
     "execution_count": 66,
     "metadata": {},
     "output_type": "execute_result"
    }
   ],
   "source": [
    "logit_sgd.coef_.shape"
   ]
  },
  {
   "cell_type": "markdown",
   "id": "d86107e9",
   "metadata": {},
   "source": [
    "На графиках отображены top 25 слов, которые (по мнению логистической регрессии), наиболее сильно увеличивают \n",
    "вроятность попадания в соответствующий класс популярности"
   ]
  },
  {
   "cell_type": "code",
   "execution_count": 67,
   "id": "830e1a6a",
   "metadata": {},
   "outputs": [
    {
     "data": {
      "image/png": "[encoded data removed]",
      "text/plain": [
       "<Figure size 1080x1080 with 1 Axes>"
      ]
     },
     "metadata": {
      "needs_background": "light"
     },
     "output_type": "display_data"
    },
    {
     "data": {
      "image/png": "[encoded data removed]",
      "text/plain": [
       "<Figure size 1080x1080 with 1 Axes>"
      ]
     },
     "metadata": {
      "needs_background": "light"
     },
     "output_type": "display_data"
    },
    {
     "data": {
      "image/png": "[encoded data removed]",
      "text/plain": [
       "<Figure size 1080x1080 with 1 Axes>"
      ]
     },
     "metadata": {
      "needs_background": "light"
     },
     "output_type": "display_data"
    }
   ],
   "source": [
    "titles = [\"Very unpopular\", 'Average', 'Very popular'] # \"Unpopular\",'Popular', \n",
    "for i in range(3):\n",
    "    visualize_coefficients(logit_sgd.coef_[i,:], tf_vectorizer.get_feature_names(),\n",
    "                      title=titles[i], plot_num=i)"
   ]
  },
  {
   "cell_type": "code",
   "execution_count": 68,
   "id": "5b65bbff",
   "metadata": {},
   "outputs": [
    {
     "data": {
      "image/png": "[encoded data removed]",
      "text/plain": [
       "<Figure size 432x288 with 1 Axes>"
      ]
     },
     "metadata": {
      "needs_background": "light"
     },
     "output_type": "display_data"
    }
   ],
   "source": [
    "plt.hist(np.max(logit_sgd.predict_proba(Xval_tfidf), axis=1));"
   ]
  },
  {
   "cell_type": "code",
   "execution_count": 69,
   "id": "d4af349f",
   "metadata": {},
   "outputs": [
    {
     "data": {
      "text/plain": [
       "array([[0.00306058, 0.48962858, 0.50731084],\n",
       "       [0.47211532, 0.27780688, 0.2500778 ],\n",
       "       [0.71323172, 0.18345106, 0.10331722],\n",
       "       ...,\n",
       "       [0.57889472, 0.29564875, 0.12545653],\n",
       "       [0.34525323, 0.41686866, 0.2378781 ],\n",
       "       [0.37461185, 0.38739071, 0.23799745]])"
      ]
     },
     "execution_count": 69,
     "metadata": {},
     "output_type": "execute_result"
    }
   ],
   "source": [
    "logit_sgd.predict_proba(Xval_tfidf)"
   ]
  },
  {
   "cell_type": "code",
   "execution_count": 70,
   "id": "28af57b7",
   "metadata": {},
   "outputs": [],
   "source": [
    "predictions = logit_sgd.predict(Xval_tfidf)\n",
    "certainty_mask = np.max(logit_sgd.predict_proba(Xval_tfidf), axis=1)>.6"
   ]
  },
  {
   "cell_type": "code",
   "execution_count": 71,
   "id": "001122db",
   "metadata": {},
   "outputs": [],
   "source": [
    "meme_slice = memes.loc[Xval.index[certainty_mask]]\n",
    "meme_slice['actual_popularity'] = le.inverse_transform(predictions[certainty_mask]) "
   ]
  },
  {
   "cell_type": "code",
   "execution_count": 72,
   "id": "6a2fc1da",
   "metadata": {},
   "outputs": [
    {
     "data": {
      "text/html": [
       "<div>\n",
       "<style scoped>\n",
       "    .dataframe tbody tr th:only-of-type {\n",
       "        vertical-align: middle;\n",
       "    }\n",
       "\n",
       "    .dataframe tbody tr th {\n",
       "        vertical-align: top;\n",
       "    }\n",
       "\n",
       "    .dataframe thead th {\n",
       "        text-align: right;\n",
       "    }\n",
       "</style>\n",
       "<table border=\"1\" class=\"dataframe\">\n",
       "  <thead>\n",
       "    <tr style=\"text-align: right;\">\n",
       "      <th></th>\n",
       "      <th>name</th>\n",
       "      <th>origin_year</th>\n",
       "      <th>date_added</th>\n",
       "      <th>views</th>\n",
       "      <th>description</th>\n",
       "      <th>average_views</th>\n",
       "      <th>actual_popularity</th>\n",
       "    </tr>\n",
       "  </thead>\n",
       "  <tbody>\n",
       "    <tr>\n",
       "      <th>1377</th>\n",
       "      <td>TheLegend27</td>\n",
       "      <td>2016</td>\n",
       "      <td>2019-10-07T05:37:23-04:00</td>\n",
       "      <td>1284582</td>\n",
       "      <td>video, ad, game war, viral, flater, grandayy, ...</td>\n",
       "      <td>42236.416865</td>\n",
       "      <td>(58.965, 536753.118]</td>\n",
       "    </tr>\n",
       "    <tr>\n",
       "      <th>3360</th>\n",
       "      <td>Zyzz</td>\n",
       "      <td>2010</td>\n",
       "      <td>2019-08-21T10:45:21-04:00</td>\n",
       "      <td>917088</td>\n",
       "      <td>bodybuilding, fitness, aesthetics, zyzz, good ...</td>\n",
       "      <td>11879.344400</td>\n",
       "      <td>(58.965, 536753.118]</td>\n",
       "    </tr>\n",
       "    <tr>\n",
       "      <th>1659</th>\n",
       "      <td>Yes - Roundabout / To Be Continued</td>\n",
       "      <td>2016</td>\n",
       "      <td>2019-07-10T16:40:07-04:00</td>\n",
       "      <td>910219</td>\n",
       "      <td>jjba, jojo bizzar adventure, exploitable, vine...</td>\n",
       "      <td>7651.866401</td>\n",
       "      <td>(58.965, 536753.118]</td>\n",
       "    </tr>\n",
       "    <tr>\n",
       "      <th>3790</th>\n",
       "      <td>He-Man Sings / HEYYEYAAEYAAAEYAEYAA</td>\n",
       "      <td>2005</td>\n",
       "      <td>2019-01-30T09:08:57-05:00</td>\n",
       "      <td>883569</td>\n",
       "      <td>roll, rick roll, he-man, superhero, heman, hey...</td>\n",
       "      <td>3153.064255</td>\n",
       "      <td>(58.965, 536753.118]</td>\n",
       "    </tr>\n",
       "    <tr>\n",
       "      <th>1491</th>\n",
       "      <td>Stefán Karl Stefánsson / Robbie Rotten</td>\n",
       "      <td>2016</td>\n",
       "      <td>2019-07-10T11:28:40-04:00</td>\n",
       "      <td>693765</td>\n",
       "      <td>robbi rotten, lazi town, irl, stefán karl stef...</td>\n",
       "      <td>5821.634568</td>\n",
       "      <td>(58.965, 536753.118]</td>\n",
       "    </tr>\n",
       "    <tr>\n",
       "      <th>...</th>\n",
       "      <td>...</td>\n",
       "      <td>...</td>\n",
       "      <td>...</td>\n",
       "      <td>...</td>\n",
       "      <td>...</td>\n",
       "      <td>...</td>\n",
       "      <td>...</td>\n",
       "    </tr>\n",
       "    <tr>\n",
       "      <th>1477</th>\n",
       "      <td>#Tierry</td>\n",
       "      <td>2016</td>\n",
       "      <td>2016-10-18T14:17:54-04:00</td>\n",
       "      <td>165</td>\n",
       "      <td>badass, cool, hip, swag, yolo, tierri tierry. ...</td>\n",
       "      <td>0.148108</td>\n",
       "      <td>(0.096, 7.114]</td>\n",
       "    </tr>\n",
       "    <tr>\n",
       "      <th>949</th>\n",
       "      <td>Paul Zante</td>\n",
       "      <td>2015</td>\n",
       "      <td>2017-08-29T18:45:04-04:00</td>\n",
       "      <td>158</td>\n",
       "      <td>donald love billi jone admir paul david zant ...</td>\n",
       "      <td>0.197780</td>\n",
       "      <td>(0.096, 7.114]</td>\n",
       "    </tr>\n",
       "    <tr>\n",
       "      <th>1022</th>\n",
       "      <td>Bob gets jolted</td>\n",
       "      <td>0</td>\n",
       "      <td>2018-08-24T22:22:18-04:00</td>\n",
       "      <td>157</td>\n",
       "      <td>funny, electric, shocking, sarah, bob novemb 2...</td>\n",
       "      <td>0.357862</td>\n",
       "      <td>(0.096, 7.114]</td>\n",
       "    </tr>\n",
       "    <tr>\n",
       "      <th>33</th>\n",
       "      <td>Wesley Ford (Also known as Wesley_Ford, or u/W...</td>\n",
       "      <td>2019</td>\n",
       "      <td>2019-10-20T12:12:23-04:00</td>\n",
       "      <td>146</td>\n",
       "      <td>troll, reddit, hypixel, minecraft wesley ford ...</td>\n",
       "      <td>8.518196</td>\n",
       "      <td>(58.965, 536753.118]</td>\n",
       "    </tr>\n",
       "    <tr>\n",
       "      <th>1173</th>\n",
       "      <td>JackJoseva</td>\n",
       "      <td>2017</td>\n",
       "      <td>2017-04-13T11:53:52-04:00</td>\n",
       "      <td>145</td>\n",
       "      <td>csgo, counter strike, global offens user call ...</td>\n",
       "      <td>0.154724</td>\n",
       "      <td>(0.096, 7.114]</td>\n",
       "    </tr>\n",
       "  </tbody>\n",
       "</table>\n",
       "<p>642 rows × 7 columns</p>\n",
       "</div>"
      ],
      "text/plain": [
       "                                                   name origin_year  \\\n",
       "1377                                        TheLegend27        2016   \n",
       "3360                                               Zyzz        2010   \n",
       "1659                 Yes - Roundabout / To Be Continued        2016   \n",
       "3790                He-Man Sings / HEYYEYAAEYAAAEYAEYAA        2005   \n",
       "1491             Stefán Karl Stefánsson / Robbie Rotten        2016   \n",
       "...                                                 ...         ...   \n",
       "1477                                            #Tierry        2016   \n",
       "949                                          Paul Zante        2015   \n",
       "1022                                    Bob gets jolted           0   \n",
       "33    Wesley Ford (Also known as Wesley_Ford, or u/W...        2019   \n",
       "1173                                         JackJoseva        2017   \n",
       "\n",
       "                     date_added    views  \\\n",
       "1377  2019-10-07T05:37:23-04:00  1284582   \n",
       "3360  2019-08-21T10:45:21-04:00   917088   \n",
       "1659  2019-07-10T16:40:07-04:00   910219   \n",
       "3790  2019-01-30T09:08:57-05:00   883569   \n",
       "1491  2019-07-10T11:28:40-04:00   693765   \n",
       "...                         ...      ...   \n",
       "1477  2016-10-18T14:17:54-04:00      165   \n",
       "949   2017-08-29T18:45:04-04:00      158   \n",
       "1022  2018-08-24T22:22:18-04:00      157   \n",
       "33    2019-10-20T12:12:23-04:00      146   \n",
       "1173  2017-04-13T11:53:52-04:00      145   \n",
       "\n",
       "                                            description  average_views  \\\n",
       "1377  video, ad, game war, viral, flater, grandayy, ...   42236.416865   \n",
       "3360  bodybuilding, fitness, aesthetics, zyzz, good ...   11879.344400   \n",
       "1659  jjba, jojo bizzar adventure, exploitable, vine...    7651.866401   \n",
       "3790  roll, rick roll, he-man, superhero, heman, hey...    3153.064255   \n",
       "1491  robbi rotten, lazi town, irl, stefán karl stef...    5821.634568   \n",
       "...                                                 ...            ...   \n",
       "1477  badass, cool, hip, swag, yolo, tierri tierry. ...       0.148108   \n",
       "949    donald love billi jone admir paul david zant ...       0.197780   \n",
       "1022  funny, electric, shocking, sarah, bob novemb 2...       0.357862   \n",
       "33    troll, reddit, hypixel, minecraft wesley ford ...       8.518196   \n",
       "1173  csgo, counter strike, global offens user call ...       0.154724   \n",
       "\n",
       "         actual_popularity  \n",
       "1377  (58.965, 536753.118]  \n",
       "3360  (58.965, 536753.118]  \n",
       "1659  (58.965, 536753.118]  \n",
       "3790  (58.965, 536753.118]  \n",
       "1491  (58.965, 536753.118]  \n",
       "...                    ...  \n",
       "1477        (0.096, 7.114]  \n",
       "949         (0.096, 7.114]  \n",
       "1022        (0.096, 7.114]  \n",
       "33    (58.965, 536753.118]  \n",
       "1173        (0.096, 7.114]  \n",
       "\n",
       "[642 rows x 7 columns]"
      ]
     },
     "execution_count": 72,
     "metadata": {},
     "output_type": "execute_result"
    }
   ],
   "source": [
    "meme_slice[\n",
    "    ['name', 'origin_year', 'date_added', 'views', 'description', 'average_views', 'actual_popularity'] # \n",
    "    \n",
    "].sort_values(by='views', ascending=False)"
   ]
  },
  {
   "cell_type": "markdown",
   "id": "24424c96",
   "metadata": {},
   "source": [
    "### А теперь можно взглянуть на confision matrix и посмотреть, где же косячат модели"
   ]
  },
  {
   "cell_type": "code",
   "execution_count": 73,
   "id": "13469a89",
   "metadata": {},
   "outputs": [],
   "source": [
    "def plot_confusion(predictions, yval, title):\n",
    "    array = confusion_matrix(yval, predictions)\n",
    "    df_cm = pd.DataFrame(array, index=[i for i in titles],\n",
    "                         columns=[i for i in titles])\n",
    "    plt.figure(figsize=(7,7))\n",
    "    sns.heatmap(df_cm, annot=True, fmt='g', cbar=False)\n",
    "    plt.title(title);"
   ]
  },
  {
   "cell_type": "code",
   "execution_count": 74,
   "id": "83dbd00a",
   "metadata": {},
   "outputs": [
    {
     "data": {
      "image/png": "[encoded data removed]",
      "text/plain": [
       "<Figure size 504x504 with 1 Axes>"
      ]
     },
     "metadata": {
      "needs_background": "light"
     },
     "output_type": "display_data"
    }
   ],
   "source": [
    "plot_confusion(logit_sgd.predict(Xval_tfidf), yval_quantile, 'logit_regression')"
   ]
  },
  {
   "cell_type": "code",
   "execution_count": 75,
   "id": "39ae9f49",
   "metadata": {},
   "outputs": [],
   "source": [
    "from wordcloud import WordCloud # визуализаирует облако слов"
   ]
  },
  {
   "cell_type": "code",
   "execution_count": null,
   "id": "bf83339e",
   "metadata": {},
   "outputs": [],
   "source": []
  }
 ],
 "metadata": {
  "kernelspec": {
   "display_name": "Python 3",
   "language": "python",
   "name": "python3"
  },
  "language_info": {
   "codemirror_mode": {
    "name": "ipython",
    "version": 3
   },
   "file_extension": ".py",
   "mimetype": "text/x-python",
   "name": "python",
   "nbconvert_exporter": "python",
   "pygments_lexer": "ipython3",
   "version": "3.8.5"
  }
 },
 "nbformat": 4,
 "nbformat_minor": 5
}
